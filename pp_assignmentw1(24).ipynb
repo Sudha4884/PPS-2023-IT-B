{
  "nbformat": 4,
  "nbformat_minor": 0,
  "metadata": {
    "colab": {
      "provenance": [],
      "authorship_tag": "ABX9TyNfOr9xbBJ+x4ip5VBF5Nx9",
      "include_colab_link": true
    },
    "kernelspec": {
      "name": "python3",
      "display_name": "Python 3"
    },
    "language_info": {
      "name": "python"
    }
  },
  "cells": [
    {
      "cell_type": "markdown",
      "metadata": {
        "id": "view-in-github",
        "colab_type": "text"
      },
      "source": [
        "<a href=\"https://colab.research.google.com/github/Sudha4884/PPS-2023-IT-B/blob/main/pp_assignmentw1(24).ipynb\" target=\"_parent\"><img src=\"https://colab.research.google.com/assets/colab-badge.svg\" alt=\"Open In Colab\"/></a>"
      ]
    },
    {
      "cell_type": "markdown",
      "source": [],
      "metadata": {
        "id": "sNsp6U0YUMC7"
      }
    },
    {
      "cell_type": "code",
      "execution_count": null,
      "metadata": {
        "id": "EEGM6teAWejE",
        "colab": {
          "base_uri": "https://localhost:8080/"
        },
        "outputId": "8e504af1-c54c-4273-d811-38b234bdb7fe"
      },
      "outputs": [
        {
          "output_type": "stream",
          "name": "stdout",
          "text": [
            "Enter your name:laya\n",
            "Enter your age:18\n",
            "Enter your date of birth:23-10-2005\n",
            "Enter your branch:IT\n",
            "Enter your college:bvrit\n",
            "Enter your email_idjsahkjsd\n",
            "Enter your phone number:6303861717\n",
            "Name: laya\n",
            "Age: 18\n",
            "Date of birth: 23-10-2005\n",
            "Branch:  IT\n",
            "College: bvrit\n",
            "Email ID: jsahkjsd\n",
            "Phone Number: 6303861717\n"
          ]
        }
      ],
      "source": [
        "name = input(\"Enter your name:\")\n",
        "age = input(\"Enter your age:\")\n",
        "dob = input(\"Enter your date of birth:\")\n",
        "branch = input(\"Enter your branch:\")\n",
        "college = input(\"Enter your college:\")\n",
        "email_id  = input(\"Enter your email_id\")\n",
        "phone_number = input(\"Enter your phone number:\")\n",
        "print(\"Name:\",name)\n",
        "print(\"Age:\", age)\n",
        "print(\"Date of birth:\", dob)\n",
        "print(\"Branch: \", branch)\n",
        "print(\"College:\", college)\n",
        "print(\"Email ID:\", email_id)\n",
        "print(\"Phone Number:\", phone_number)"
      ]
    },
    {
      "cell_type": "code",
      "source": [
        "#Write a Python program to find those numbers which are divisible by 7 and multiples of 5,\n",
        "#between 1500 and 2700\n",
        "for i in range(1500, 2700):\n",
        "    if i%7==0 and i%5==0:\n",
        "        print(i)"
      ],
      "metadata": {
        "id": "WTSz2tskMcfl",
        "colab": {
          "base_uri": "https://localhost:8080/"
        },
        "outputId": "0867df59-39c4-4aaa-a79f-2fbf5826ef61"
      },
      "execution_count": null,
      "outputs": [
        {
          "output_type": "stream",
          "name": "stdout",
          "text": [
            "1505\n",
            "1540\n",
            "1575\n",
            "1610\n",
            "1645\n",
            "1680\n",
            "1715\n",
            "1750\n",
            "1785\n",
            "1820\n",
            "1855\n",
            "1890\n",
            "1925\n",
            "1960\n",
            "1995\n",
            "2030\n",
            "2065\n",
            "2100\n",
            "2135\n",
            "2170\n",
            "2205\n",
            "2240\n",
            "2275\n",
            "2310\n",
            "2345\n",
            "2380\n",
            "2415\n",
            "2450\n",
            "2485\n",
            "2520\n",
            "2555\n",
            "2590\n",
            "2625\n",
            "2660\n",
            "2695\n"
          ]
        }
      ]
    },
    {
      "cell_type": "code",
      "source": [
        "#Program to enter the marks of 5 subjects of a student. Compute the total and average mark of\n",
        "#the student and display it.\n",
        "Math = int(input(\"Enter Math marks: \"))\n",
        "EDC = int(input(\"Enter EDC marks: \"))\n",
        "EC = int(input(\"Enter EC marks: \"))\n",
        "EG =int(input(\"Enter EG marks: \"))\n",
        "English = int(input(\"Enter English marks: \"))\n",
        "Total = Math + EDC + EC + EG + English\n",
        "print(\"Total marks: \",Total)\n",
        "Average = Total/5\n",
        "print(\"Average marks: \",Average)"
      ],
      "metadata": {
        "id": "-ao3BtrCMieO",
        "colab": {
          "base_uri": "https://localhost:8080/"
        },
        "outputId": "9d5d38f2-86a4-442b-edb7-ff895987fd7c"
      },
      "execution_count": null,
      "outputs": [
        {
          "output_type": "stream",
          "name": "stdout",
          "text": [
            "Enter Math marks: 23\n",
            "Enter EDC marks: 25\n",
            "Enter EC marks: 23\n",
            "Enter EG marks: 12\n",
            "Enter English marks: 14\n",
            "Total marks:  97\n",
            "Average marks:  19.4\n"
          ]
        }
      ]
    },
    {
      "cell_type": "code",
      "source": [
        "print(\"Calculator\")\n",
        "print(\"Enter '+' to add two operands\")\n",
        "print(\"Enter '-' to add two operands\")\n",
        "print(\"Enter '*' to add two operands\")\n",
        "print(\"Enter '/' to add two operands\")\n",
        "print(\"Enter '%' to add two operands\")\n",
        "a = int(input(\"Enter an operand: \"))\n",
        "b = int(input(\"Enter another operand: \"))\n",
        "ch = input(\"Enter a operator:\")\n",
        "if ch == '+':\n",
        "    print(a+b)\n",
        "if ch == '-':\n",
        "    print(a-b)\n",
        "if ch == '*':\n",
        "    print(a*b)\n",
        "if ch == '/':\n",
        "    print(a/b)\n",
        "if ch == '%':\n",
        "    print(a%b)"
      ],
      "metadata": {
        "id": "5ZG6eaMhM8j9",
        "colab": {
          "base_uri": "https://localhost:8080/"
        },
        "outputId": "95bb1b35-abbb-4fa4-dedc-51716c4c5784"
      },
      "execution_count": null,
      "outputs": [
        {
          "output_type": "stream",
          "name": "stdout",
          "text": [
            "Calculator\n",
            "Enter '+' to add two operands\n",
            "Enter '-' to add two operands\n",
            "Enter '*' to add two operands\n",
            "Enter '/' to add two operands\n",
            "Enter '%' to add two operands\n",
            "Enter an operand: 1\n",
            "Enter another operand: 2\n",
            "Enter a operator:+\n",
            "3\n"
          ]
        }
      ]
    },
    {
      "cell_type": "code",
      "source": [
        "#Check whether the triangle is scalene, isosceles, equilateral(Input the three sides of the\n",
        "#triangle\n",
        "side1 = int(input(\"Enter the length of first side: \"))\n",
        "side2 = int(input(\"Enter the length of second side: \"))\n",
        "side3 = int(input(\"Enter the length of third side: \"))\n",
        "if side1 == side2:\n",
        "    if side2 == side3:\n",
        "        print(\"The triangle is equilateral triangle\")\n",
        "    else:\n",
        "        print(\"The triangle is an isoceles triangle\")\n",
        "if side1 != side2:\n",
        "    if side2 != side3:\n",
        "        print(\"The triangle is a scalene\")"
      ],
      "metadata": {
        "id": "fl-vPMpKNCdF"
      },
      "execution_count": null,
      "outputs": []
    },
    {
      "cell_type": "code",
      "source": [
        "#Swap two numbers\n",
        "#a) Using temporary variable\n",
        "#b) Without using temporary variable\n",
        "num1 = int(input(\"Enter the 1st number: \"))\n",
        "num2 = int(input(\"Enter the 2nd number: \"))\n",
        "num3 = num1\n",
        "num1 = num2\n",
        "num2 = num3\n",
        "print(num1,num2)"
      ],
      "metadata": {
        "id": "-v3ubs6DNFoy"
      },
      "execution_count": null,
      "outputs": []
    },
    {
      "cell_type": "code",
      "source": [
        "print(\"Before swapping: \")\n",
        "x=int(input(\"\"))\n",
        "print(\"Before swapping: \")\n",
        "y=int(input(\"\"))\n",
        "y=x+y\n",
        "x=y-x\n",
        "y=y-x\n",
        "print(\"After swap: \",x)\n",
        "print(\"After swap: \",y)"
      ],
      "metadata": {
        "id": "K3DHUnx6NU5f"
      },
      "execution_count": null,
      "outputs": []
    },
    {
      "cell_type": "code",
      "source": [
        "n=int(input(\"\"))\n",
        "i=1\n",
        "while i<=n:\n",
        "    if i%3==0 and i%5==0:\n",
        "        print(\"FizzBuzz\")\n",
        "    elif i%3==0:\n",
        "        print(\"Fizz\")\n",
        "    elif i%5==0:\n",
        "        print(\"Buzz\")\n",
        "    else:\n",
        "        print(\"none\")\n",
        "    i+=1"
      ],
      "metadata": {
        "id": "2lZWaYnmNbSX"
      },
      "execution_count": null,
      "outputs": []
    },
    {
      "cell_type": "code",
      "source": [
        "#HER0N'S FORMULA\n",
        "import math\n",
        "a = int(input())\n",
        "b = int(input())\n",
        "c = int(input())\n",
        "s = (a+b+c)/2\n",
        "print(math.sqrt(s*(s-a)*(s-b)*(s-c)))"
      ],
      "metadata": {
        "id": "5IxOp5TBOhmF",
        "colab": {
          "base_uri": "https://localhost:8080/"
        },
        "outputId": "76d58c30-5998-4812-b9b0-29b1ab8f9d71"
      },
      "execution_count": 3,
      "outputs": [
        {
          "output_type": "stream",
          "name": "stdout",
          "text": [
            "2\n",
            "3\n",
            "4\n",
            "0.0\n"
          ]
        }
      ]
    },
    {
      "cell_type": "code",
      "source": [
        "import math\n",
        "num = int(input(\"\"))\n",
        "print(\"square of given number is:\",num**2)\n",
        "print(\"square root of given number is:\",math.sqrt(num))"
      ],
      "metadata": {
        "id": "Xg16Qai_OkrP"
      },
      "execution_count": null,
      "outputs": []
    },
    {
      "cell_type": "code",
      "source": [
        "side_1 = int(input(\"Enter first side: \"))\n",
        "side_2 = int(input(\"Enter second side: \"))\n",
        "side_3 = int(input(\"Enter third side: \"))\n",
        "if (side_1)**2+(side_2)**2 > (side_3)**2:\n",
        "    print(\"it is an Acute angled Triangle\")\n",
        "if (side_1)**2+(side_2)**2 == (side_3)**2:\n",
        "    print(\"it is a right angled Triangle\")\n",
        "if (side_1)**2+(side_2)**2 < (side_3)**2:\n",
        "    print(\"it is an obtuse angled Triangle\")"
      ],
      "metadata": {
        "id": "rX0R0qZ2OnYG"
      },
      "execution_count": null,
      "outputs": []
    },
    {
      "cell_type": "code",
      "source": [
        "x = int(input(\"Enter a number: \"))\n",
        "y = int(input(\"Enter a number: \"))\n",
        "z = int(input(\"Enter a number: \"))\n",
        "if x > y and x > z:\n",
        "    print(x,\"is the largest\")\n",
        "if y > x and y > z:\n",
        "    print(y,\"is the largest\")\n",
        "if z > x and z > y:\n",
        "    print(z,\"is the largest\")"
      ],
      "metadata": {
        "id": "pa6to14XOqZZ"
      },
      "execution_count": null,
      "outputs": []
    },
    {
      "cell_type": "code",
      "source": [
        "x = int(input(\"Enter your marks: \"))\n",
        "if x > 90:\n",
        "    print(\"A Grade\")\n",
        "elif x > 65:\n",
        "    print(\"B Grade\")\n",
        "elif x > 45:\n",
        "    print(\"C Grade\")\n",
        "else :\n",
        "    print(\"Fail\")"
      ],
      "metadata": {
        "id": "SjwuaQUmOs-y"
      },
      "execution_count": null,
      "outputs": []
    },
    {
      "cell_type": "code",
      "source": [
        "x = int(input(\" Enter a year: \"))\n",
        "if ((x % 100 == 0) & (x % 400 == 0)):\n",
        "    print(\"it is a leap year\")\n",
        "elif ((x % 100 != 0) & (x % 4 == 0)):\n",
        "    print(\"it is a leap year\")\n",
        "else:\n",
        "    print(\"it is not a leap year\")"
      ],
      "metadata": {
        "id": "Iac-aOjMOvpE"
      },
      "execution_count": null,
      "outputs": []
    },
    {
      "cell_type": "code",
      "source": [
        "import random\n",
        "guess=random.randint(1,9)\n",
        "print(guess)"
      ],
      "metadata": {
        "id": "fHrY1PU_cwoD"
      },
      "execution_count": null,
      "outputs": []
    },
    {
      "cell_type": "code",
      "source": [
        "for i in range(1,21):\n",
        "    print(i**2)"
      ],
      "metadata": {
        "id": "m77tqLhEcy4n"
      },
      "execution_count": null,
      "outputs": []
    },
    {
      "cell_type": "code",
      "source": [
        "i=1\n",
        "while i<=5:\n",
        "    print(i*\"*\")\n",
        "    i+=1"
      ],
      "metadata": {
        "id": "fts5N5BPc1RA"
      },
      "execution_count": null,
      "outputs": []
    },
    {
      "cell_type": "code",
      "source": [
        "a= int(input())\n",
        "sum=0\n",
        "while a != 0:\n",
        "    digit = a % 10\n",
        "    sum = sum + digit\n",
        "    a = a // 10\n",
        "print(\"sum of digits:\",sum)"
      ],
      "metadata": {
        "id": "tBdDGhRDc3_q"
      },
      "execution_count": null,
      "outputs": []
    },
    {
      "cell_type": "code",
      "source": [
        "#palindrome\n",
        "number = int(input(\"\"))\n",
        "reverse = str(number)\n",
        "reverse_1 = reverse[::-1]\n",
        "reverse_2 = int(reverse_1)\n",
        "if number == reverse_2:\n",
        "    print(\"PALINDROME\")\n",
        "else:\n",
        "    print(\"NOT PALINDROME\")"
      ],
      "metadata": {
        "id": "YN5De73vc6OX"
      },
      "execution_count": null,
      "outputs": []
    },
    {
      "cell_type": "code",
      "source": [
        "def isdivisible(m,n):\n",
        "    return m % n == 0 or n % m == 0\n",
        "num1 = int(input(\"Enter a number:\"))\n",
        "num2 = int(input(\"Enter a number:\"))\n",
        "if isdivisible(num1,num2):\n",
        "    print(\"Divisible\")\n",
        "else:\n",
        "    print(\"not divisible\")"
      ],
      "metadata": {
        "id": "CuEGgKx3c96F"
      },
      "execution_count": null,
      "outputs": []
    },
    {
      "cell_type": "code",
      "source": [
        "number = int(input())\n",
        "i = 1\n",
        "count = 0\n",
        "while i <= number:\n",
        "    if number % i == 0:\n",
        "        count += 1\n",
        "    i+=1\n",
        "if count == 2:\n",
        "    print(\"prime\")\n",
        "else:\n",
        "    print(\"not a prime\")"
      ],
      "metadata": {
        "id": "V833LJLrdAbN"
      },
      "execution_count": null,
      "outputs": []
    },
    {
      "cell_type": "code",
      "source": [
        "num1 = int(input(\"Enter a number:\"))\n",
        "num2 = int(input(\"Enter another number:\"))\n",
        "num3 = int(input(\"Enter a number to check:\"))\n",
        "if num3 in range(num1,num2):\n",
        "    print(\"Found\")\n",
        "else:\n",
        "    print(\"Not found\")"
      ],
      "metadata": {
        "id": "l_fylzxfdC1v"
      },
      "execution_count": null,
      "outputs": []
    },
    {
      "cell_type": "code",
      "source": [
        "def is_Armstrong(num):\n",
        "    temp = num\n",
        "    Sum = 0\n",
        "    while num > 0:\n",
        "        digit = num % 10\n",
        "        cub_e = digit*digit*digit\n",
        "        Sum = Sum + cub_e\n",
        "        num = num // 10\n",
        "    if Sum == temp:\n",
        "        return True\n",
        "number=int(input(\"\"))\n",
        "if is_Armstrong(number):\n",
        "    print(\"Armstrong\")\n",
        "else:\n",
        "    print(\"not an Armstrong\")"
      ],
      "metadata": {
        "id": "fkuqBqLZdE9r"
      },
      "execution_count": null,
      "outputs": []
    },
    {
      "cell_type": "code",
      "source": [
        "def is_perfect(num):\n",
        "    i=1\n",
        "    sum=0\n",
        "    while i<num:\n",
        "        if num%i==0:\n",
        "            sum=sum+i\n",
        "        i+=1\n",
        "        if sum==num:\n",
        "                return is_perfect\n",
        "i=int(input(\"\"))\n",
        "if is_perfect(i):\n",
        "    print(\"perfect\")\n",
        "else:\n",
        "    print(\"not perfect\")"
      ],
      "metadata": {
        "id": "8BHHGsrTdHcg"
      },
      "execution_count": null,
      "outputs": []
    },
    {
      "cell_type": "code",
      "source": [
        "n= 3\n",
        "factorial=1\n",
        "Sum=0\n",
        "for i in (1,n+1):\n",
        "    factorial=factorial*i\n",
        "    Sum =Sum+factorial\n",
        "print(Sum)"
      ],
      "metadata": {
        "id": "AjEc89NLdJwr"
      },
      "execution_count": null,
      "outputs": []
    },
    {
      "cell_type": "code",
      "source": [
        "#Fibonacci series\n",
        "x = int(input(\"\"))\n",
        "y = int(input(\"\"))\n",
        "z = x + y\n",
        "i=1\n",
        "while i<=5:\n",
        "    z = x + y\n",
        "    print(z,end=\" \")\n",
        "    x = y\n",
        "    y = z\n",
        "    i+=1"
      ],
      "metadata": {
        "id": "LgjuyuUBdMCX",
        "colab": {
          "base_uri": "https://localhost:8080/"
        },
        "outputId": "b0526a61-fa20-41a6-ee3f-43c7c3d635a1"
      },
      "execution_count": null,
      "outputs": [
        {
          "output_type": "stream",
          "name": "stdout",
          "text": [
            "0\n",
            "1\n",
            "1 2 3 5 8 "
          ]
        }
      ]
    },
    {
      "cell_type": "code",
      "source": [
        "#primes in given range\n",
        "num1 = int(input(\"\"))\n",
        "num2 = int(input(\"\"))\n",
        "for i in range(num1,num2+1):\n",
        "    count=0\n",
        "    for j in range(1,i+1+1):\n",
        "        if i%j==0:\n",
        "            count+=1\n",
        "    if count==2:\n",
        "        print(i)\n",
        "    else:\n",
        "        print(\"not a prime\")"
      ],
      "metadata": {
        "id": "l6CyXgp7dOnS",
        "colab": {
          "base_uri": "https://localhost:8080/"
        },
        "outputId": "ea507e0a-610a-40c8-e648-008e8bc5a058"
      },
      "execution_count": null,
      "outputs": [
        {
          "output_type": "stream",
          "name": "stdout",
          "text": [
            "2\n",
            "5\n",
            "2\n",
            "3\n",
            "not a prime\n",
            "5\n"
          ]
        }
      ]
    },
    {
      "cell_type": "code",
      "source": [
        "number = int(input(\"Enter a number:\"))\n",
        "i = 1\n",
        "sum = 0\n",
        "print(\"factors are:\")\n",
        "while i < number:\n",
        "    if number % i == 0:\n",
        "        print(i)\n",
        "        sum = sum + i\n",
        "    i += 1\n",
        "if sum == number:\n",
        "    print(\"perfect\")\n",
        "else:\n",
        "    print(\"not perfect\")"
      ],
      "metadata": {
        "colab": {
          "base_uri": "https://localhost:8080/"
        },
        "id": "3HiC4yP1dRKF",
        "outputId": "15b3c2f0-effa-4c38-c540-6843a30cca93"
      },
      "execution_count": null,
      "outputs": [
        {
          "output_type": "stream",
          "name": "stdout",
          "text": [
            "Enter a number:2\n",
            "factors are:\n",
            "1\n",
            "not perfect\n"
          ]
        }
      ]
    }
  ]
}