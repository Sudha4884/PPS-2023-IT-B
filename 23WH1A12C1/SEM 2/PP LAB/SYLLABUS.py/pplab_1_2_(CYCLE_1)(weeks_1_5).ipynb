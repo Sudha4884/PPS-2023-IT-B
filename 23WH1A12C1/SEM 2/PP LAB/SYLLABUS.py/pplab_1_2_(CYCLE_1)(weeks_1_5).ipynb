{
  "nbformat": 4,
  "nbformat_minor": 0,
  "metadata": {
    "colab": {
      "provenance": []
    },
    "kernelspec": {
      "name": "python3",
      "display_name": "Python 3"
    },
    "language_info": {
      "name": "python"
    }
  },
  "cells": [
    {
      "cell_type": "markdown",
      "source": [
        "                                     WEEK 1"
      ],
      "metadata": {
        "id": "nCy69MR0UEIw"
      }
    },
    {
      "cell_type": "code",
      "source": [
        "# Read name, address, email and phone number of a person\n",
        "# through keyboard and print the details.\n",
        "name=str(input(\"enter your name: \"))\n",
        "address=input(\"enter your address: \")\n",
        "email=input(\"give your email id: \")\n",
        "phone_number=input(\"enter your phone number: \")\n",
        "print()"
      ],
      "metadata": {
        "colab": {
          "base_uri": "https://localhost:8080/"
        },
        "id": "tVWJKevh6mmk",
        "outputId": "56c69019-e174-4ea9-ead2-745a6b70400a"
      },
      "execution_count": null,
      "outputs": [
        {
          "output_type": "stream",
          "name": "stdout",
          "text": [
            "enter your name: Meghana\n",
            "enter your address: bhudevi hills,kukatpally\n",
            "give your email id: 23wh1a12c1@bvrithyderabad.edu.in\n",
            "enter your phone number: 9505113160\n",
            "\n"
          ]
        }
      ]
    },
    {
      "cell_type": "code",
      "source": [
        "#Write a program to calculate compound interest when principal,\n",
        "# rate and number of periods are given.\n",
        "def compound_interest(principal, rate, time):\n",
        "    Amount = principal * (pow((1 + rate / 100), time))\n",
        "    CI = Amount - principal\n",
        "    print(\"Compound interest is\", CI)\n",
        "compound_interest(80000,2,2)"
      ],
      "metadata": {
        "colab": {
          "base_uri": "https://localhost:8080/"
        },
        "id": "uISDjubv8D83",
        "outputId": "f641dc54-adca-44c0-b622-542beb9d1a2b"
      },
      "execution_count": null,
      "outputs": [
        {
          "output_type": "stream",
          "name": "stdout",
          "text": [
            "Compound interest is 3232.0\n"
          ]
        }
      ]
    },
    {
      "cell_type": "code",
      "source": [
        "#Given coordinates (x1, y1), (x2, y2) find the distance between two points\n",
        "def distance(x1,y1,x2,y2):\n",
        "    return( ((x2-x1)**2+(y2-y1)**2)**0.5)\n",
        "print(distance(1,1,5,4))"
      ],
      "metadata": {
        "colab": {
          "base_uri": "https://localhost:8080/"
        },
        "id": "naKRqeWX9fhG",
        "outputId": "45432047-40d5-4eeb-bef6-3514ee0b36ae"
      },
      "execution_count": null,
      "outputs": [
        {
          "output_type": "stream",
          "name": "stdout",
          "text": [
            "5.0\n"
          ]
        }
      ]
    },
    {
      "cell_type": "markdown",
      "source": [
        "                                                    WEEK 2"
      ],
      "metadata": {
        "id": "dYkMAkqdUKnz"
      }
    },
    {
      "cell_type": "code",
      "source": [
        "#find Euclidean distance using linalg.norm()\n",
        "import numpy as np\n",
        "# initializing points in numpy arrays\n",
        "point1 = np.array((1, 2, 3))\n",
        "point2 = np.array((1, 1, 1))\n",
        "dist = np.linalg.norm(point1 - point2)\n",
        "print(dist)"
      ],
      "metadata": {
        "colab": {
          "base_uri": "https://localhost:8080/"
        },
        "id": "uU5YXUSPzPB1",
        "outputId": "0e9057c5-c0fe-4266-dc94-4102c653a5ef"
      },
      "execution_count": null,
      "outputs": [
        {
          "output_type": "stream",
          "name": "stdout",
          "text": [
            "2.23606797749979\n"
          ]
        }
      ]
    },
    {
      "cell_type": "code",
      "source": [
        "# Python code to find Euclidean distance using dot()\n",
        "import numpy as np\n",
        " # initializing points in numpy arrays\n",
        "point1 = np.array((1, 2, 3))\n",
        "point2 = np.array((1, 1, 1))\n",
        "temp = point1 - point2     #subtracting\n",
        "sum_sq = np.dot(temp.T, temp)     # sum of squares\n",
        "print(np.sqrt(sum_sq))              # square root of sum"
      ],
      "metadata": {
        "colab": {
          "base_uri": "https://localhost:8080/"
        },
        "id": "_9Dz3S9iz6g8",
        "outputId": "a739ef3f-4b02-4336-b579-b31d09887854"
      },
      "execution_count": null,
      "outputs": [
        {
          "output_type": "stream",
          "name": "stdout",
          "text": [
            "2.23606797749979\n"
          ]
        }
      ]
    },
    {
      "cell_type": "code",
      "source": [
        "# Python code to find Euclidean distance using sum() and square()\n",
        "\n",
        "import numpy as np\n",
        "# initializing points in numpy arrays\n",
        "point1 = np.array((1, 2, 3))\n",
        "point2 = np.array((1, 1, 1))\n",
        "\n",
        "# finding sum of squares\n",
        "sum_sq = np.sum(np.square(point1 - point2))\n",
        "\n",
        "# Doing squareroot and printing Euclidean distance\n",
        "print(np.sqrt(sum_sq))"
      ],
      "metadata": {
        "colab": {
          "base_uri": "https://localhost:8080/"
        },
        "id": "e43FrFrk07b3",
        "outputId": "453eeab2-d4e7-40bf-e1fa-d923036df8e3"
      },
      "execution_count": null,
      "outputs": [
        {
          "output_type": "stream",
          "name": "stdout",
          "text": [
            "2.23606797749979\n"
          ]
        }
      ]
    },
    {
      "cell_type": "code",
      "source": [
        "# importing euclidean distance\n",
        "# function from scikit-learn library\n",
        "from sklearn.metrics.pairwise import euclidean_distances\n",
        "# importing numpy library\n",
        "import numpy as np\n",
        "X = np.array([[2.3, 1.6, 7.9],\n",
        "              [0, 9, 2], [5, 7, 2.9]])\n",
        "Y = np.array([[34, 2.9, 5.8], [4, 7, 2],\n",
        "              [6.5, 1, 0]])\n",
        "\n",
        "distance = euclidean_distances(X, Y)\n",
        "print(distance)"
      ],
      "metadata": {
        "colab": {
          "base_uri": "https://localhost:8080/"
        },
        "id": "kC7td0t31QIs",
        "outputId": "b2fc42d4-f186-4b80-c813-dee6b8c1c144"
      },
      "execution_count": null,
      "outputs": [
        {
          "output_type": "stream",
          "name": "stdout",
          "text": [
            "[[31.79606894  8.17679644  8.96716232]\n",
            " [34.75125897  4.47213595 10.5       ]\n",
            " [29.43161565  1.3453624   6.83081254]]\n"
          ]
        }
      ]
    },
    {
      "cell_type": "code",
      "source": [
        "# Find the Euclidean distance with the given values and\n",
        "# check the validity of values to find the distance.\n",
        "#Given coordinates (x1, y1), (x2, y2)\n",
        "def distance(x1,y1,x2,y2):\n",
        "    return( ((x2-x1)**2+(y2-y1)**2)**0.5)\n",
        "print(distance(1,1,5,4))"
      ],
      "metadata": {
        "colab": {
          "base_uri": "https://localhost:8080/"
        },
        "outputId": "45432047-40d5-4eeb-bef6-3514ee0b36ae",
        "id": "1cb7nYh9AR9U"
      },
      "execution_count": null,
      "outputs": [
        {
          "output_type": "stream",
          "name": "stdout",
          "text": [
            "5.0\n"
          ]
        }
      ]
    },
    {
      "cell_type": "code",
      "source": [
        "# Generate a random number between 1-10 and ask the user to guess the number. Give chance\n",
        "# for 3 times. If guessed correctly then congratulate otherwise print message as sorry.\n",
        "def randomNum(count,onum,n):\n",
        "    if count == 2:\n",
        "        print(\"Sorry,you are out of chances\")\n",
        "        return\n",
        "    if n == onum:\n",
        "        print(\"Wow! You guessed it right\")\n",
        "        return\n",
        "    else:\n",
        "        print(\"Sorry! You guessed it wrong.\")\n",
        "        count += 1\n",
        "        n = guess(n)\n",
        "        randomNum(count,onum,n)\n",
        "\n",
        "\n",
        "def guess(n):\n",
        "    num = int(input(\"Enter a number from 1-10 \"))\n",
        "    return n\n",
        "\n",
        "print(\"Hello! Ready to guess a number?\")\n",
        "ori_num = 6\n",
        "count = 0\n",
        "num = int(input(\"Enter a number from 1-10 \"))\n",
        "\n",
        "for i in range(0,3):\n",
        "    randomNum(count,ori_num, num)\n",
        "    break"
      ],
      "metadata": {
        "colab": {
          "base_uri": "https://localhost:8080/"
        },
        "id": "LSSLDL1rUcxI",
        "outputId": "4f412ae1-b320-469f-f604-5ef51f645b8f"
      },
      "execution_count": null,
      "outputs": [
        {
          "output_type": "stream",
          "name": "stdout",
          "text": [
            "Hello! Ready to guess a number?\n",
            "Enter a number from 1-10 4\n",
            "Sorry! You guessed it wrong.\n",
            "Enter a number from 1-10 6\n",
            "Sorry! You guessed it wrong.\n",
            "Enter a number from 1-10 5\n",
            "Sorry,you are out of chances\n"
          ]
        }
      ]
    },
    {
      "cell_type": "code",
      "source": [
        "# Function to swap two characters in a character array\n",
        "def swap(ch, i, j):\n",
        "    temp = ch[i]\n",
        "    ch[i] = ch[j]\n",
        "    ch[j] = temp\n",
        "\n",
        "\n",
        "# Recursive function to generate all permutations of a string\n",
        "def permutations(ch, curr_index=0):\n",
        "\n",
        "    if curr_index == len(ch) - 1:\n",
        "        print(''.join(ch))\n",
        "\n",
        "    for i in range(curr_index, len(ch)):\n",
        "        swap(ch, curr_index, i)\n",
        "        permutations(ch, curr_index + 1)\n",
        "        swap(ch, curr_index, i)\n",
        "\n",
        "if __name__ == '__main__':\n",
        "\n",
        "\n",
        "    s = 'ABC'\n",
        "    permutations(list(s))"
      ],
      "metadata": {
        "colab": {
          "base_uri": "https://localhost:8080/"
        },
        "id": "1nXSM7_wVOm0",
        "outputId": "7b954f9c-5c62-43ef-e177-fb1520bd32fd"
      },
      "execution_count": null,
      "outputs": [
        {
          "output_type": "stream",
          "name": "stdout",
          "text": [
            "ABC\n",
            "ACB\n",
            "BAC\n",
            "BCA\n",
            "CBA\n",
            "CAB\n"
          ]
        }
      ]
    },
    {
      "cell_type": "code",
      "source": [
        "import itertools\n",
        "\n",
        "if __name__ == '__main__':\n",
        "    s = 'ABC'\n",
        "\n",
        "    nums = list(s)\n",
        "    permutations =list(itertools.permutations(nums))\n",
        "\n",
        "    # Output: ['ABC', 'ACB', 'BAC', 'BCA', 'CAB', 'CBA']\n",
        "    print([''.join(permutation) for permutation in permutations])"
      ],
      "metadata": {
        "colab": {
          "base_uri": "https://localhost:8080/"
        },
        "id": "veR0EWQmXA4-",
        "outputId": "9ee83be1-c53e-46bb-ac12-b5b8c28fa4cb"
      },
      "execution_count": null,
      "outputs": [
        {
          "output_type": "stream",
          "name": "stdout",
          "text": [
            "['ABC', 'ACB', 'BAC', 'BCA', 'CAB', 'CBA']\n"
          ]
        }
      ]
    },
    {
      "cell_type": "code",
      "source": [
        "# Generate prime numbers of fibonacci series\n",
        "num = int(input(\"Enter a number: \"))\n",
        "\n",
        "a = 1\n",
        "b = 1\n",
        "c = 0\n",
        "#count = 0\n",
        "isPrime = True\n",
        "\n",
        "while (count < num):\n",
        "    isPrime = True\n",
        "    c = a + b\n",
        "\n",
        "    for i in range(2,c):\n",
        "        if (c % i == 0):\n",
        "            isPrime = False\n",
        "            break\n",
        "\n",
        "    if (isPrime):\n",
        "        print (c)\n",
        "        count = count + 1\n",
        "    a = b\n",
        "    b = c"
      ],
      "metadata": {
        "id": "wcclEnSMSTKE"
      },
      "execution_count": null,
      "outputs": []
    },
    {
      "cell_type": "code",
      "source": [
        "#Generate prime numbers of fibonacci series between 1-50.\n",
        "def generate_fibonacci(n):\n",
        "    fibonacci = [1, 1]\n",
        "    while True:\n",
        "        next_fib = fibonacci[-1] + fibonacci[-2]\n",
        "        if next_fib > n:\n",
        "            break\n",
        "        fibonacci.append(next_fib)\n",
        "    return fibonacci\n",
        "\n",
        "def is_prime(num):\n",
        "    if num <= 1:\n",
        "        return False\n",
        "    if num == 2:\n",
        "        return True\n",
        "    if num % 2 == 0:\n",
        "        return False\n",
        "    for i in range(3, int(num**0.5) + 1, 2):\n",
        "        if num % i == 0:\n",
        "            return False\n",
        "    return True\n",
        "\n",
        "fibonacci_numbers = generate_fibonacci(50)\n",
        "prime_fibonacci = [num for num in fibonacci_numbers if is_prime(num)]\n",
        "print(\"Prime Fibonacci numbers between 1 and 50:\", prime_fibonacci)"
      ],
      "metadata": {
        "colab": {
          "base_uri": "https://localhost:8080/"
        },
        "id": "IaRqRuyXTPUG",
        "outputId": "2d9bd4a9-f334-42ab-d92b-7381e9e8781e"
      },
      "execution_count": null,
      "outputs": [
        {
          "output_type": "stream",
          "name": "stdout",
          "text": [
            "Prime Fibonacci numbers between 1 and 50: [2, 3, 5, 13]\n"
          ]
        }
      ]
    },
    {
      "cell_type": "markdown",
      "source": [
        "                            WEEK 3"
      ],
      "metadata": {
        "id": "yPSLawOW2fpD"
      }
    },
    {
      "cell_type": "code",
      "source": [
        "# 1. i) Write a program to convert a list and tuple into arrays.\n",
        "import numpy as np\n",
        "list=[1,2,3,4]\n",
        "arr=np.array(list)\n",
        "print(arr)\n",
        "tuple=([1,2,3],[4,5,6])                                                    #t=(1,2,3,4)\n",
        "arr1=np.array(tuple)                                                    #arr=np.array(t)\n",
        "print(arr1)                                                       #print(arr)              same output"
      ],
      "metadata": {
        "colab": {
          "base_uri": "https://localhost:8080/"
        },
        "id": "CjEkqY-B2k2k",
        "outputId": "8a95e138-5c67-4ddd-efa3-5b405b97b4a8"
      },
      "execution_count": null,
      "outputs": [
        {
          "output_type": "stream",
          "name": "stdout",
          "text": [
            "[1 2 3 4]\n",
            "[[1 2 3]\n",
            " [4 5 6]]\n"
          ]
        }
      ]
    },
    {
      "cell_type": "code",
      "source": [
        "# ii) Write a program to find common values between two arrays.\n",
        "import numpy as np\n",
        "ar1 = [1,2,3,4,5]\n",
        "ar2 = [2, 4, 5, 6, 7, 8, 9, 12]\n",
        "# Common values between two arrays\n",
        "print(np.intersect1d(ar1, ar2))"
      ],
      "metadata": {
        "colab": {
          "base_uri": "https://localhost:8080/"
        },
        "id": "dp1ESRcV4IkP",
        "outputId": "46640656-c0c8-4ff8-f3a5-957b56e690fa"
      },
      "execution_count": null,
      "outputs": [
        {
          "output_type": "stream",
          "name": "stdout",
          "text": [
            "[2 4 5]\n"
          ]
        }
      ]
    },
    {
      "cell_type": "code",
      "source": [
        "# Write a program to add comma separators in a given big number as per the standard\n",
        "# American convention. Ex: i/p: 100000000 o/p: 100,000,000\n",
        "text=int(input())\n",
        "print(\"{:,}\".format(text))"
      ],
      "metadata": {
        "colab": {
          "base_uri": "https://localhost:8080/"
        },
        "id": "VDyoN18W5XEp",
        "outputId": "91dfd032-6c9c-4c91-f0d5-2b0f78eb357d"
      },
      "execution_count": null,
      "outputs": [
        {
          "output_type": "stream",
          "name": "stdout",
          "text": [
            "100000000\n",
            "100,000,000\n"
          ]
        }
      ]
    },
    {
      "cell_type": "code",
      "source": [
        "# Write a program to convert given formula 3X+4Y as 3*X+4*Y and 3(X+Y) as 3*X+3*Y\n",
        "X=int(input())\n",
        "Y=int(input())\n",
        "res=3*X + 4*Y\n",
        "print(\"3*{} + 4*{}={}\".format(X,Y,res))\n",
        "res1=3*(X+Y)\n",
        "print(\"3*{} + 3*{}={}\".format(X,Y,res1))"
      ],
      "metadata": {
        "colab": {
          "base_uri": "https://localhost:8080/"
        },
        "id": "XWlQjWJn50ag",
        "outputId": "68c99fc7-13aa-4efb-b918-d1855868cc0c"
      },
      "execution_count": null,
      "outputs": [
        {
          "output_type": "stream",
          "name": "stdout",
          "text": [
            "2\n",
            "4\n",
            "3*2 + 4*4=22\n",
            "3*2 + 3*4=18\n"
          ]
        }
      ]
    },
    {
      "cell_type": "code",
      "source": [
        "expr=input()   # 3(x+y+z)\n",
        "result=\" \"\n",
        "for symbol in expr:\n",
        "    if symbol.isnumeric():\n",
        "        num=symbol\n",
        "    elif symbol=='('or symbol==')':\n",
        "        pass\n",
        "    elif symbol.isalpha():\n",
        "        result=result+num+'*'+symbol\n",
        "    else:\n",
        "        result=result+symbol\n",
        "print(result)"
      ],
      "metadata": {
        "colab": {
          "base_uri": "https://localhost:8080/"
        },
        "id": "fLFWMaDu5z1F",
        "outputId": "131736c1-0546-41fc-d931-19d637736faa"
      },
      "execution_count": null,
      "outputs": [
        {
          "output_type": "stream",
          "name": "stdout",
          "text": [
            "3x+4y\n",
            " 3*x+4*y\n"
          ]
        }
      ]
    },
    {
      "cell_type": "code",
      "source": [
        "# Write a program to convert given formula 3X+4Y as 3*X+4*Y and 3(X+Y) as 3*X+3*Y\n",
        "# expanding the expression using loops\n",
        "expr=input()   # 3(x+y+z)\n",
        "result=\" \"\n",
        "for symbol in expr:\n",
        "    if symbol.isnumeric():\n",
        "        num=symbol\n",
        "    elif symbol=='('or symbol==')':\n",
        "        pass\n",
        "    elif symbol.isalpha():\n",
        "        result=result+num+'*'+symbol\n",
        "    else:\n",
        "        result=result+symbol\n",
        "print(result)"
      ],
      "metadata": {
        "colab": {
          "base_uri": "https://localhost:8080/"
        },
        "id": "bc_z0hrh8HMe",
        "outputId": "3c2683fe-36c8-4636-cf2d-218db577845c"
      },
      "execution_count": null,
      "outputs": [
        {
          "output_type": "stream",
          "name": "stdout",
          "text": [
            "3(x+y)\n",
            " 3*x+3*y\n"
          ]
        }
      ]
    },
    {
      "cell_type": "code",
      "source": [
        "# Write a program to convert given formula 3X+4Y as 3*X+4*Y and 3(X+Y) as 3*X+3*Y\n",
        "# expansion of linear eq\n",
        "from sympy import symbols,expand       # sympy = symbol python\n",
        "x,y=symbols('x y')\n",
        "expr=input(\"enter expression: \")\n",
        "print(expand(expr))"
      ],
      "metadata": {
        "colab": {
          "base_uri": "https://localhost:8080/"
        },
        "outputId": "23ee51df-dbfc-49c7-d88a-b6af5cf0acc7",
        "id": "by-ClF5T8wbc"
      },
      "execution_count": null,
      "outputs": [
        {
          "output_type": "stream",
          "name": "stdout",
          "text": [
            "enter expression: 3*(x+y) - 2*x\n",
            "x + 3*y\n"
          ]
        }
      ]
    },
    {
      "cell_type": "markdown",
      "source": [
        "                         WEEK 4\n",
        "                    "
      ],
      "metadata": {
        "id": "pKMovaChr0Q4"
      }
    },
    {
      "cell_type": "code",
      "source": [
        "#1. Write a function called is sorted that takes a list as a parameter and returns True if the list\n",
        "# issorted in ascending order and False otherwise.\n",
        "def is_sorted(user_list):\n",
        "    return user_list == sorted(user_list)\n",
        "user_list=input(\"Please enter a list: \")\n",
        "user_list = user_list.split()\n",
        "print(is_sorted(user_list))\n",
        "print(\"Your list: \", user_list)"
      ],
      "metadata": {
        "colab": {
          "base_uri": "https://localhost:8080/"
        },
        "id": "UfCRitJNDpRB",
        "outputId": "7944d453-5aa4-4473-a30a-1e928b5a6e69"
      },
      "execution_count": null,
      "outputs": [
        {
          "output_type": "stream",
          "name": "stdout",
          "text": [
            "Please enter a list: 1 2 3 4 5\n",
            "True\n",
            "Your list:  ['1', '2', '3', '4', '5']\n"
          ]
        }
      ]
    },
    {
      "cell_type": "code",
      "source": [
        "# sorting using numpy by converting list to array\n",
        "import numpy as np\n",
        "array = np.array([10, 2, 9, -1])\n",
        "array2 = np.sort(array)\n",
        "print(array2)"
      ],
      "metadata": {
        "colab": {
          "base_uri": "https://localhost:8080/"
        },
        "id": "Qs66EK_tOOvn",
        "outputId": "da1004f2-3042-45a7-df19-b2fd3abbcc16"
      },
      "execution_count": null,
      "outputs": [
        {
          "output_type": "stream",
          "name": "stdout",
          "text": [
            "[-1  2  9 10]\n"
          ]
        }
      ]
    },
    {
      "cell_type": "code",
      "source": [
        "# 2.Write a function called has duplicates that takes a list and returns True if there is any\n",
        "# element that appears more than once. It should not modify the original list.\n",
        "def duplicates(lst):\n",
        "\tchecked = []\n",
        "\tfor item in lst:\n",
        "\t\tif item in checked:\n",
        "\t\t\treturn True\n",
        "\t\tchecked.append(item)\n",
        "\treturn False\n",
        "duplicates([1,4,53,5,3,2,4,2,4,3])"
      ],
      "metadata": {
        "colab": {
          "base_uri": "https://localhost:8080/"
        },
        "id": "h2tMsoZapJNs",
        "outputId": "cfd0065c-fe47-4be5-c726-5e3d66365ee3"
      },
      "execution_count": null,
      "outputs": [
        {
          "output_type": "execute_result",
          "data": {
            "text/plain": [
              "True"
            ]
          },
          "metadata": {},
          "execution_count": 4
        }
      ]
    },
    {
      "cell_type": "code",
      "source": [
        "# remove duplicates using set\n",
        "list1=[1,2,5,5,3,6,3,2,2,4]\n",
        "def remove_duplicate(list1):\n",
        "    return list(set(list1))\n",
        "print(remove_duplicate(list1))"
      ],
      "metadata": {
        "colab": {
          "base_uri": "https://localhost:8080/"
        },
        "id": "xTal195BQ7t8",
        "outputId": "eed30329-cb21-4f45-ca25-029f89af6fc3"
      },
      "execution_count": null,
      "outputs": [
        {
          "output_type": "stream",
          "name": "stdout",
          "text": [
            "[1, 2, 3, 4, 5, 6]\n"
          ]
        }
      ]
    },
    {
      "cell_type": "code",
      "source": [
        "#2.i)Write a function called remove duplicates that takes a list and returns a new list with\n",
        " # only the unique elements from the original. Hint: they don’t have to be in the same order.\n",
        "def Remove(duplicate):\n",
        "    final_list = []\n",
        "    for num in duplicate:\n",
        "        if num not in final_list:\n",
        "            final_list.append(num)\n",
        "    return final_list\n",
        "\n",
        "# Driver Code\n",
        "duplicate = [2, 4, 10, 20, 5, 2, 20, 4]\n",
        "print(Remove(duplicate))"
      ],
      "metadata": {
        "colab": {
          "base_uri": "https://localhost:8080/"
        },
        "id": "9hHWG6H6Tu10",
        "outputId": "fc0208e6-d837-4fd0-ce33-3281a4813b9a"
      },
      "execution_count": null,
      "outputs": [
        {
          "output_type": "stream",
          "name": "stdout",
          "text": [
            "[2, 4, 10, 20, 5]\n"
          ]
        }
      ]
    },
    {
      "cell_type": "code",
      "source": [
        "# ii)The wordlist I provided, words.txt, doesn’t contain single letter words. So you might\n",
        "# want to add “I”, “a”, and the empty string.\n"
      ],
      "metadata": {
        "id": "6kCAfkvwWPJl"
      },
      "execution_count": null,
      "outputs": []
    },
    {
      "cell_type": "code",
      "execution_count": null,
      "metadata": {
        "colab": {
          "base_uri": "https://localhost:8080/"
        },
        "id": "rP6_CG9CbpUl",
        "outputId": "e9f78350-a595-4ffc-8100-6359ed9c131d"
      },
      "outputs": [
        {
          "output_type": "stream",
          "name": "stdout",
          "text": [
            "{1: 'apple', 2: 'guava', 3: 'pineapple'}\n",
            "{'apple': 1, 'guava': 2, 'pineapple': 3}\n"
          ]
        }
      ],
      "source": [
        "# iii)Write a python code to read dictionary values from the user. Construct a function to\n",
        "# Invert its content. i.e., keys should be values and values should be keys.\n",
        "# in dict   keys to values    values to keys\n",
        "dict1={}\n",
        "dict2={1:'apple',2:'guava',3:'pineapple'}\n",
        "new_dict=dict((value,key) for key,value in dict2.items())\n",
        "print(dict2)\n",
        "print(new_dict)"
      ]
    },
    {
      "cell_type": "code",
      "source": [
        "# iii)Write a python code to read dictionary values from the user. Construct a function to\n",
        "# Invert its content. i.e., keys should be values and values should be keys.\n",
        "old_dict = {'A': 67, 'B': 23, 'C': 45, 'D': 56, 'E': 12, 'F': 69, 'G': 67, 'H': 23}\n",
        "new_dict = dict([(value, key) for key, value in old_dict.items()])\n",
        "print (\"Original dictionary is : \")\n",
        "print(old_dict)\n",
        "print()\n",
        "# Printing new dictionary after swapping keys and values\n",
        "print (\"Dictionary after swapping is :  \")\n",
        "print(\"keys: values\")\n",
        "for i in new_dict:\n",
        "    print(i, \" :  \", new_dict[i])"
      ],
      "metadata": {
        "colab": {
          "base_uri": "https://localhost:8080/"
        },
        "id": "SFiiV0mSX0ud",
        "outputId": "4f030749-cd62-4f2a-c633-6db0c0d94407"
      },
      "execution_count": null,
      "outputs": [
        {
          "output_type": "stream",
          "name": "stdout",
          "text": [
            "Original dictionary is : \n",
            "{'A': 67, 'B': 23, 'C': 45, 'D': 56, 'E': 12, 'F': 69, 'G': 67, 'H': 23}\n",
            "\n",
            "Dictionary after swapping is :  \n",
            "keys: values\n",
            "67  :   G\n",
            "23  :   H\n",
            "45  :   C\n",
            "56  :   D\n",
            "12  :   E\n",
            "69  :   F\n"
          ]
        }
      ]
    },
    {
      "cell_type": "code",
      "source": [
        "# 3. i) Add a comma between the characters. If the given word is 'Apple', it should become\n",
        "#   'A,p,p,l,e'\n",
        "txt = 'Apple'\n",
        "new_txt = ','.join(txt)\n",
        "print(new_txt)"
      ],
      "metadata": {
        "colab": {
          "base_uri": "https://localhost:8080/"
        },
        "id": "j6DSi38dYVbs",
        "outputId": "744e9109-435b-44e8-ec6e-b2ba09097a37"
      },
      "execution_count": null,
      "outputs": [
        {
          "output_type": "stream",
          "name": "stdout",
          "text": [
            "A,p,p,l,e\n"
          ]
        }
      ]
    },
    {
      "cell_type": "code",
      "source": [
        "# removing given word from str\n",
        "txt=input()\n",
        "word=input()\n",
        "txt=txt.replace(word,\"\")\n",
        "print(txt)"
      ],
      "metadata": {
        "colab": {
          "base_uri": "https://localhost:8080/"
        },
        "id": "SMkaAPU4VkUK",
        "outputId": "71040dc7-088d-477d-aee4-a86442e4d5f1"
      },
      "execution_count": null,
      "outputs": [
        {
          "output_type": "stream",
          "name": "stdout",
          "text": [
            "megha is a very bright girl\n",
            "very\n",
            "megha is a  bright girl\n"
          ]
        }
      ]
    },
    {
      "cell_type": "code",
      "source": [
        "# removing given word from str\n",
        "txt=input()\n",
        "word=input()\n",
        "txt=txt.split()\n",
        "for string in txt:\n",
        "    if string==word:\n",
        "        txt.remove(string)\n",
        "print(\" \".join(txt))"
      ],
      "metadata": {
        "colab": {
          "base_uri": "https://localhost:8080/"
        },
        "id": "j4vm2F2VVw_I",
        "outputId": "ca0155d2-3942-46ca-db95-0aa214f54951"
      },
      "execution_count": null,
      "outputs": [
        {
          "output_type": "stream",
          "name": "stdout",
          "text": [
            "megha is a very bright girl\n",
            "very\n",
            "megha is a bright girl\n"
          ]
        }
      ]
    },
    {
      "cell_type": "code",
      "source": [
        "# ii) Remove the given word in all the places in a string?\n",
        "txt=input(\"enter str: \")\n",
        "words=txt.split()\n",
        "data=input(\"enter word to delete: \")\n",
        "for word in words:\n",
        "    if word==data:\n",
        "        words.remove(word)\n",
        "        if status:\n",
        "            txt=' '.join(words)\n",
        "print(\"str after deletion: \",txt)"
      ],
      "metadata": {
        "colab": {
          "base_uri": "https://localhost:8080/",
          "height": 245
        },
        "outputId": "0a6fa1ba-1dc0-4a7e-ba64-632c645d192c",
        "id": "cB5WgezRaPQs"
      },
      "execution_count": null,
      "outputs": [
        {
          "name": "stdout",
          "output_type": "stream",
          "text": [
            "enter str: meggha dsyd a\n",
            "enter word to delete: a\n"
          ]
        },
        {
          "output_type": "error",
          "ename": "NameError",
          "evalue": "name 'status' is not defined",
          "traceback": [
            "\u001b[0;31m---------------------------------------------------------------------------\u001b[0m",
            "\u001b[0;31mNameError\u001b[0m                                 Traceback (most recent call last)",
            "\u001b[0;32m<ipython-input-57-6f4a4610d4f5>\u001b[0m in \u001b[0;36m<cell line: 5>\u001b[0;34m()\u001b[0m\n\u001b[1;32m      6\u001b[0m     \u001b[0;32mif\u001b[0m \u001b[0mword\u001b[0m\u001b[0;34m==\u001b[0m\u001b[0mdata\u001b[0m\u001b[0;34m:\u001b[0m\u001b[0;34m\u001b[0m\u001b[0;34m\u001b[0m\u001b[0m\n\u001b[1;32m      7\u001b[0m         \u001b[0mwords\u001b[0m\u001b[0;34m.\u001b[0m\u001b[0mremove\u001b[0m\u001b[0;34m(\u001b[0m\u001b[0mword\u001b[0m\u001b[0;34m)\u001b[0m\u001b[0;34m\u001b[0m\u001b[0;34m\u001b[0m\u001b[0m\n\u001b[0;32m----> 8\u001b[0;31m         \u001b[0;32mif\u001b[0m \u001b[0mstatus\u001b[0m\u001b[0;34m:\u001b[0m\u001b[0;34m\u001b[0m\u001b[0;34m\u001b[0m\u001b[0m\n\u001b[0m\u001b[1;32m      9\u001b[0m             \u001b[0mtxt\u001b[0m\u001b[0;34m=\u001b[0m\u001b[0;34m' '\u001b[0m\u001b[0;34m.\u001b[0m\u001b[0mjoin\u001b[0m\u001b[0;34m(\u001b[0m\u001b[0mwords\u001b[0m\u001b[0;34m)\u001b[0m\u001b[0;34m\u001b[0m\u001b[0;34m\u001b[0m\u001b[0m\n\u001b[1;32m     10\u001b[0m \u001b[0mprint\u001b[0m\u001b[0;34m(\u001b[0m\u001b[0;34m\"str after deletion: \"\u001b[0m\u001b[0;34m)\u001b[0m\u001b[0;34m\u001b[0m\u001b[0;34m\u001b[0m\u001b[0m\n",
            "\u001b[0;31mNameError\u001b[0m: name 'status' is not defined"
          ]
        }
      ]
    },
    {
      "cell_type": "code",
      "source": [
        "# iii) Write a function that takes a sentence as an input parameter and replaces the first letter\n",
        "# of every word with the corresponding upper-case letter and the rest of the letters in the\n",
        "# word by corresponding letters in lower case without using a built-in function?\n",
        "s = \"python is learned in 2nd sem of btech in IT-B \"\n",
        "print(\"Original string:\")\n",
        "print(s)\n",
        "print(\"After capitalizing first letter:\")\n",
        "print(s.capitalize())"
      ],
      "metadata": {
        "colab": {
          "base_uri": "https://localhost:8080/"
        },
        "id": "dpeGLQrrczTH",
        "outputId": "db1cc630-d854-40d8-8266-1f9f5202216a"
      },
      "execution_count": null,
      "outputs": [
        {
          "output_type": "stream",
          "name": "stdout",
          "text": [
            "Original string:\n",
            "python is learned in 2nd sem of btech in IT-B \n",
            "After capitalizing first letter:\n",
            "Python is learned in 2nd sem of btech in it-b \n"
          ]
        }
      ]
    },
    {
      "cell_type": "code",
      "source": [
        "# capitalizing\n",
        "txt=input()\n",
        "new_txt=\"\"\n",
        "for word in txt.split():\n",
        "    new_txt+=word.capitalize()+\"\"\n",
        "print(new_txt)"
      ],
      "metadata": {
        "colab": {
          "base_uri": "https://localhost:8080/"
        },
        "id": "14n4e31kYnVh",
        "outputId": "713a94ba-da42-4bcd-f36f-c3cece1b402b"
      },
      "execution_count": null,
      "outputs": [
        {
          "output_type": "stream",
          "name": "stdout",
          "text": [
            "megha\n",
            "Megha\n"
          ]
        }
      ]
    },
    {
      "cell_type": "code",
      "source": [
        "# 4. Write a recursive function that generates all binary strings of n-bit length\n",
        "def binary_str(n,string=''):\n",
        "    if len(string)== n:\n",
        "        print(string)\n",
        "    else:\n",
        "        binary_str(n,string+\"0\")\n",
        "        binary_str(n,string+\"1\")\n",
        "n=int(input(\"length of string: \"))\n",
        "binary_str(n)"
      ],
      "metadata": {
        "colab": {
          "base_uri": "https://localhost:8080/"
        },
        "id": "Atn_d_lde9iZ",
        "outputId": "10e0a1a2-6813-455e-e79d-e5070b7f611c"
      },
      "execution_count": null,
      "outputs": [
        {
          "output_type": "stream",
          "name": "stdout",
          "text": [
            "length of string: 3\n",
            "000\n",
            "001\n",
            "010\n",
            "011\n",
            "100\n",
            "101\n",
            "110\n",
            "111\n"
          ]
        }
      ]
    },
    {
      "cell_type": "code",
      "source": [
        "# 4. Write a recursive function that generates all binary strings of n-bit length\n",
        "n = 5\n",
        "for i in range(2**n, 2**(n+1)):\n",
        "    print(bin(i)[3:])"
      ],
      "metadata": {
        "colab": {
          "base_uri": "https://localhost:8080/"
        },
        "id": "WtsTGVG6derP",
        "outputId": "3d2bdc67-78e3-4ec5-cc77-fc8f6f169776"
      },
      "execution_count": null,
      "outputs": [
        {
          "output_type": "stream",
          "name": "stdout",
          "text": [
            "00000\n",
            "00001\n",
            "00010\n",
            "00011\n",
            "00100\n",
            "00101\n",
            "00110\n",
            "00111\n",
            "01000\n",
            "01001\n",
            "01010\n",
            "01011\n",
            "01100\n",
            "01101\n",
            "01110\n",
            "01111\n",
            "10000\n",
            "10001\n",
            "10010\n",
            "10011\n",
            "10100\n",
            "10101\n",
            "10110\n",
            "10111\n",
            "11000\n",
            "11001\n",
            "11010\n",
            "11011\n",
            "11100\n",
            "11101\n",
            "11110\n",
            "11111\n"
          ]
        }
      ]
    },
    {
      "cell_type": "code",
      "source": [
        "def genbin(n, bs = ''):\n",
        "    if n-1:\n",
        "        genbin(n-1, bs + '0')\n",
        "        genbin(n-1, bs + '1')\n",
        "    else:\n",
        "        print('1' + bs)\n",
        "\n",
        "genbin(4)"
      ],
      "metadata": {
        "colab": {
          "base_uri": "https://localhost:8080/"
        },
        "id": "qW_Je6z3d0Pm",
        "outputId": "44c8c697-2c87-4a93-b931-3e9074eeea64"
      },
      "execution_count": null,
      "outputs": [
        {
          "output_type": "stream",
          "name": "stdout",
          "text": [
            "1000\n",
            "1001\n",
            "1010\n",
            "1011\n",
            "1100\n",
            "1101\n",
            "1110\n",
            "1111\n"
          ]
        }
      ]
    },
    {
      "cell_type": "code",
      "source": [
        "def genbin(n, bs=''):\n",
        "    if len(bs) == n:\n",
        "        print(bs)\n",
        "    else:\n",
        "        genbin(n, bs + '0')\n",
        "        genbin(n, bs + '1')\n",
        "genbin(3)"
      ],
      "metadata": {
        "colab": {
          "base_uri": "https://localhost:8080/"
        },
        "id": "m6J6cwGzd5M9",
        "outputId": "1e674334-24df-4ebe-be76-41859f95edac"
      },
      "execution_count": null,
      "outputs": [
        {
          "output_type": "stream",
          "name": "stdout",
          "text": [
            "000\n",
            "001\n",
            "010\n",
            "011\n",
            "100\n",
            "101\n",
            "110\n",
            "111\n"
          ]
        }
      ]
    },
    {
      "cell_type": "markdown",
      "source": [
        "                                        WEEK 5"
      ],
      "metadata": {
        "id": "fl6s8hsdn5AG"
      }
    },
    {
      "cell_type": "code",
      "source": [
        "# 1. i) Write a python program that defines a matrix and prints\n",
        "R = int(input(\"Enter the number of rows: \"))\n",
        "C = int(input(\"Enter the number of columns: \"))\n",
        "matrix = []\n",
        "print(\"Enter the elements rowwise one by one: \")\n",
        "for i in range(R):          # A for loop for row entries\n",
        "    a =[]\n",
        "    for j in range(C):      # A for loop for column entries\n",
        "        a.append(int(input()))\n",
        "    matrix.append(a)\n",
        "\n",
        "# For printing the matrix\n",
        "for i in range(R):\n",
        "    for j in range(C):\n",
        "        print(matrix[i][j], end = \" \")\n",
        "    print()"
      ],
      "metadata": {
        "colab": {
          "base_uri": "https://localhost:8080/"
        },
        "id": "SCkQazsUn99M",
        "outputId": "2908903d-e695-49d2-df9e-f9adfad84fb5"
      },
      "execution_count": null,
      "outputs": [
        {
          "output_type": "stream",
          "name": "stdout",
          "text": [
            "Enter the number of rows: 2\n",
            "Enter the number of columns: 2\n",
            "Enter the elements rowwise one by one: \n",
            "1\n",
            "2\n",
            "3\n",
            "4\n",
            "1 2 \n",
            "3 4 \n"
          ]
        }
      ]
    },
    {
      "cell_type": "code",
      "source": [
        "# ii) Write a python program to perform addition of two square matrices\n",
        "# addition of matrix and printing in matrix form\n",
        "import numpy as np\n",
        "print(\"first matrix is: \")\n",
        "m1=[[1,2,3],\n",
        "   [1,2,3]]                                       # USING NUMPY\n",
        "print(m1)\n",
        "print(\"second matrix is: \")\n",
        "m2=[[1,2,3],\n",
        "   [1,2,3]]\n",
        "print(m2)\n",
        "print(\"sum of matrices is: \")\n",
        "print(np.add(m1,m2))"
      ],
      "metadata": {
        "colab": {
          "base_uri": "https://localhost:8080/"
        },
        "id": "zCOyvWWBrNNF",
        "outputId": "e5641076-3556-4c11-f18b-d45ae970d14d"
      },
      "execution_count": null,
      "outputs": [
        {
          "output_type": "stream",
          "name": "stdout",
          "text": [
            "first matrix is: \n",
            "[[1, 2, 3], [1, 2, 3]]\n",
            "second matrix is: \n",
            "[[1, 2, 3], [1, 2, 3]]\n",
            "sum of matrices is: \n",
            "[[2 4 6]\n",
            " [2 4 6]]\n"
          ]
        }
      ]
    },
    {
      "cell_type": "code",
      "source": [
        "  # ii) Write a python program to perform addition of two square matrices\n",
        "# matrix addition in python\n",
        "\n",
        "rows = int(input('ENter number of rows: '))\n",
        "cols  = int(input('ENter number of column: '))\n",
        "\n",
        "print() # for new line\n",
        "                                                      # USING LOOPS\n",
        "\n",
        "print('Enter values for matrix A')\n",
        "\n",
        "matrix_A = [[int(input(f\"column {j+1} -> ENter {i+1} element:\")) for j in range(cols)] for i in range(rows) ]\n",
        "\n",
        "print() # for new line\n",
        "print('Enter values for matrix B ')\n",
        "matrix_B= [[int(input(f\"column {j+1} -> ENter {i+1} element:\")) for j in range(cols)] for i in range(rows) ]\n",
        "\n",
        "print() #for new line\n",
        "\n",
        "print('Matrix-A :')\n",
        "for i in matrix_A:\n",
        "    print(i)\n",
        "\n",
        "print() #for new line\n",
        "\n",
        "print('Matrix-B :')\n",
        "for i in matrix_B:\n",
        "    print(i)\n",
        "\n",
        "# resultant matrix (matrix that store answer and intially it is Zero)\n",
        "result = [[0 for j in range(cols)] for i in range(rows)]\n",
        "\n",
        "# addition\n",
        "for i in range(rows):\n",
        "    for j in range(cols):\n",
        "        result[i][j] = matrix_A[i][j] + matrix_B[i][j]\n",
        "\n",
        "print() #for new line\n",
        "print('Addition of Matrix-A and Matrix-B is :')\n",
        "\n",
        "for i in result:\n",
        "    print(i)\n"
      ],
      "metadata": {
        "colab": {
          "base_uri": "https://localhost:8080/"
        },
        "outputId": "1ea9f7db-29e5-4cb3-fe6d-d9babbd5f18a",
        "id": "u1GlTQk67M5H"
      },
      "execution_count": null,
      "outputs": [
        {
          "output_type": "stream",
          "name": "stdout",
          "text": [
            "ENter number of rows: 2\n",
            "ENter number of column: 2\n",
            "\n",
            "Enter values for matrix A\n",
            "column 1 -> ENter 1 element:1\n",
            "column 2 -> ENter 1 element:2\n",
            "column 1 -> ENter 2 element:2\n",
            "column 2 -> ENter 2 element:1\n",
            "\n",
            "Enter values for matrix B \n",
            "column 1 -> ENter 1 element:1\n",
            "column 2 -> ENter 1 element:2\n",
            "column 1 -> ENter 2 element:2\n",
            "column 2 -> ENter 2 element:1\n",
            "\n",
            "Matrix-A :\n",
            "[1, 2]\n",
            "[2, 1]\n",
            "\n",
            "Matrix-B :\n",
            "[1, 2]\n",
            "[2, 1]\n",
            "\n",
            "Addition of Matrix-A and Matrix-B is :\n",
            "[2, 4]\n",
            "[4, 2]\n"
          ]
        }
      ]
    },
    {
      "cell_type": "code",
      "source": [
        "# 1.iii) Write a python program to perform multiplication of two square matrices\n",
        "# Program to multiply two matrices using nested loops\n",
        "X = [[12,7,3],\n",
        "    [4 ,5,6],\n",
        "    [7 ,8,9]]\n",
        "Y = [[5,8,1],                                    # USING LOOPS\n",
        "    [6,7,3],\n",
        "    [4,5,9]]\n",
        "result = [[0,0,0],\n",
        "          [0,0,0],\n",
        "          [0,0,0]]\n",
        "\n",
        "# iterate through rows of X\n",
        "for i in range(len(X)):\n",
        "   # iterate through columns of Y\n",
        "   for j in range(len(Y[0])):\n",
        "       # iterate through rows of Y\n",
        "       for k in range(len(Y)):\n",
        "           result[i][j] += X[i][k] * Y[k][j]\n",
        "\n",
        "for r in result:\n",
        "   print(r)\n"
      ],
      "metadata": {
        "colab": {
          "base_uri": "https://localhost:8080/"
        },
        "id": "QvDdjPI5tydt",
        "outputId": "44134e01-4366-4ac3-d6be-eff295163acc"
      },
      "execution_count": null,
      "outputs": [
        {
          "output_type": "stream",
          "name": "stdout",
          "text": [
            "[114, 160, 60]\n",
            "[74, 97, 73]\n",
            "[119, 157, 112]\n"
          ]
        }
      ]
    },
    {
      "cell_type": "code",
      "source": [
        "# 1.iii) Write a python program to perform multiplication of two square matrices\n",
        "# Program to multiply two matrices using nested loops by taki8ng input from user\n",
        "# multiplication of matrix and printing in matrix form\n",
        "import numpy as np\n",
        "print(\"first matrix is: \")\n",
        "m1=[[1,2,3],\n",
        "   [1,2,3]]                                                        #USING  NUMPY\n",
        "print(m1)\n",
        "print(\"second matrix is: \")\n",
        "m2=[[1,2,3],\n",
        "   [4,5,6]]\n",
        "print(m2)\n",
        "print(\"multiplication of matrices is: \")\n",
        "print(np.multiply(m1,m2))"
      ],
      "metadata": {
        "id": "5HqorAqTurzd"
      },
      "execution_count": null,
      "outputs": []
    },
    {
      "cell_type": "code",
      "source": [
        "# matrix multiplication in python\n",
        "matrix_A_rows = int(input('ENter number of rows for matrix-A: '))\n",
        "matrix_A_cols  = int(input('ENter number of columns for matrix-A: '))\n",
        "\n",
        "print() # for new line\n",
        "\n",
        "matrix_B_rows = int(input('ENter number of rows for matrix-B: '))\n",
        "matrix_B_cols  = int(input('ENter number of columns for matrix-B: '))\n",
        "\n",
        "print() # for new line\n",
        "\n",
        "if matrix_A_cols == matrix_B_rows:\n",
        "    print('Enter values for matrix A')\n",
        "    matrix_A = [[int(input(f\"column {j+1} -> ENter {i+1} element:\")) for j in range(matrix_A_cols)] for i in range(matrix_A_rows) ]\n",
        "\n",
        "    print() # for new line\n",
        "\n",
        "    print('Enter values for matrix B ')\n",
        "    matrix_B = [[int(input(f\"column {j+1} -> ENter {i+1} element:\")) for j in range(matrix_B_cols)] for i in range(matrix_B_rows) ]\n",
        "\n",
        "    print() #for new line\n",
        "\n",
        "    print('Matrix-A :')\n",
        "    for i in matrix_A:\n",
        "        print(i)\n",
        "\n",
        "    print() #for new line\n",
        "\n",
        "    print('Matrix-B :')\n",
        "    for i in matrix_B:\n",
        "        print(i)\n",
        "\n",
        "    # mutiplication operation\n",
        "\n",
        "    # resultant matrix (matrix that store answer and intially it is Zero)\n",
        "    result = [[0 for j in range(matrix_B_cols)] for i in range(matrix_A_rows)]\n",
        "\n",
        "    # main logic for matrix multiplication (multiplication operation)\n",
        "    for i in range(len(matrix_A)):\n",
        "        for j in range(len(matrix_B[0])):\n",
        "            for k in range(len(matrix_B)):\n",
        "                result[i][j] += matrix_A[i][k] * matrix_B[k][j]\n",
        "\n",
        "    print() #for new line\n",
        "\n",
        "    print('Multiplication of Matrix-A and Matrix-B is :')\n",
        "    for i in result:  #print result\n",
        "        print(i)\n",
        "\n",
        "else:\n",
        "    print('Multiplication of matrices is not possible (columns of matrix-A = row of matrix-B)')\n"
      ],
      "metadata": {
        "colab": {
          "base_uri": "https://localhost:8080/"
        },
        "id": "1kVbSFYg8M0U",
        "outputId": "95613d71-51bc-4d79-d21c-7c4203ee9cd4"
      },
      "execution_count": null,
      "outputs": [
        {
          "output_type": "stream",
          "name": "stdout",
          "text": [
            "ENter number of rows for matrix-A: 2\n",
            "ENter number of columns for matrix-A: 2\n",
            "\n",
            "ENter number of rows for matrix-B: 2\n",
            "ENter number of columns for matrix-B: 2\n",
            "\n",
            "Enter values for matrix A\n",
            "column 1 -> ENter 1 element:1\n",
            "column 2 -> ENter 1 element:2\n",
            "column 1 -> ENter 2 element:2\n",
            "column 2 -> ENter 2 element:1\n",
            "\n",
            "Enter values for matrix B \n",
            "column 1 -> ENter 1 element:2\n",
            "column 2 -> ENter 1 element:1\n",
            "column 1 -> ENter 2 element:2\n",
            "column 2 -> ENter 2 element:1\n",
            "\n",
            "Matrix-A :\n",
            "[1, 2]\n",
            "[2, 1]\n",
            "\n",
            "Matrix-B :\n",
            "[2, 1]\n",
            "[2, 1]\n",
            "\n",
            "Multiplication of Matrix-A and Matrix-B is :\n",
            "[6, 3]\n",
            "[6, 3]\n"
          ]
        }
      ]
    },
    {
      "cell_type": "code",
      "source": [
        "  #  2. How do you make a module? Give an example of construction of a module using\n",
        "#  different geometrical shapes and operations on them as its functions.\n",
        "# Python program to create\n",
        "# a module\n",
        "\n",
        "# Defining a function\n",
        "''' GFG.py '''\n",
        "def Geeks():\n",
        "    print(\"GeeksforGeeks\")\n",
        "\n",
        "# Defining a variable\n",
        "location = \"Noida\"\n",
        "import GFG\n",
        "\n",
        "# Use the function created\n",
        "GFG.Geeks()\n",
        "\n",
        "# Print the variable declared\n",
        "print(GFG.location)"
      ],
      "metadata": {
        "id": "BrDtAB6_vTOn",
        "colab": {
          "base_uri": "https://localhost:8080/",
          "height": 385
        },
        "outputId": "10ed11be-8a63-47de-f933-67143b5a4102"
      },
      "execution_count": null,
      "outputs": [
        {
          "output_type": "error",
          "ename": "ModuleNotFoundError",
          "evalue": "No module named 'GFG'",
          "traceback": [
            "\u001b[0;31m---------------------------------------------------------------------------\u001b[0m",
            "\u001b[0;31mModuleNotFoundError\u001b[0m                       Traceback (most recent call last)",
            "\u001b[0;32m<ipython-input-1-6526b27d0ece>\u001b[0m in \u001b[0;36m<cell line: 13>\u001b[0;34m()\u001b[0m\n\u001b[1;32m     11\u001b[0m \u001b[0;31m# Defining a variable\u001b[0m\u001b[0;34m\u001b[0m\u001b[0;34m\u001b[0m\u001b[0m\n\u001b[1;32m     12\u001b[0m \u001b[0mlocation\u001b[0m \u001b[0;34m=\u001b[0m \u001b[0;34m\"Noida\"\u001b[0m\u001b[0;34m\u001b[0m\u001b[0;34m\u001b[0m\u001b[0m\n\u001b[0;32m---> 13\u001b[0;31m \u001b[0;32mimport\u001b[0m \u001b[0mGFG\u001b[0m\u001b[0;34m\u001b[0m\u001b[0;34m\u001b[0m\u001b[0m\n\u001b[0m\u001b[1;32m     14\u001b[0m \u001b[0;34m\u001b[0m\u001b[0m\n\u001b[1;32m     15\u001b[0m \u001b[0;31m# Use the function created\u001b[0m\u001b[0;34m\u001b[0m\u001b[0;34m\u001b[0m\u001b[0m\n",
            "\u001b[0;31mModuleNotFoundError\u001b[0m: No module named 'GFG'",
            "",
            "\u001b[0;31m---------------------------------------------------------------------------\u001b[0;32m\nNOTE: If your import is failing due to a missing package, you can\nmanually install dependencies using either !pip or !apt.\n\nTo view examples of installing some common dependencies, click the\n\"Open Examples\" button below.\n\u001b[0;31m---------------------------------------------------------------------------\u001b[0m\n"
          ],
          "errorDetails": {
            "actions": [
              {
                "action": "open_url",
                "actionText": "Open Examples",
                "url": "/notebooks/snippets/importing_libraries.ipynb"
              }
            ]
          }
        }
      ]
    },
    {
      "cell_type": "code",
      "source": [
        "# 3.Use the structure of exception handling all general purpose exceptions.\n",
        "\n",
        "                     # using syntax error\n",
        "\n",
        "amount = 10000\n",
        "if(amount > 2999):\n",
        "    print(\"You are eligible to purchase \")\n"
      ],
      "metadata": {
        "colab": {
          "base_uri": "https://localhost:8080/"
        },
        "id": "T1ITDgU629nx",
        "outputId": "d13d7501-3aee-4b66-9bbf-3621b6887a7f"
      },
      "execution_count": null,
      "outputs": [
        {
          "output_type": "stream",
          "name": "stdout",
          "text": [
            "You are eligible to purchase Dsa Self Paced\n"
          ]
        }
      ]
    },
    {
      "cell_type": "code",
      "source": [
        "#\n",
        "try:\n",
        "    numerator = 10\n",
        "    denominator = 0\n",
        "\n",
        "    result = numerator/denominator\n",
        "\n",
        "    print(result)\n",
        "except:\n",
        "    print(\"Error: Denominator cannot be 0.\")\n",
        "\n",
        "# Output: Error: Denominator cannot be 0."
      ],
      "metadata": {
        "id": "sW4lpmc8UOSi",
        "colab": {
          "base_uri": "https://localhost:8080/"
        },
        "outputId": "50fa9a9f-5417-40f4-ef7e-ab1cbd1b5c28"
      },
      "execution_count": 1,
      "outputs": [
        {
          "output_type": "stream",
          "name": "stdout",
          "text": [
            "Error: Denominator cannot be 0.\n"
          ]
        }
      ]
    }
  ]
}